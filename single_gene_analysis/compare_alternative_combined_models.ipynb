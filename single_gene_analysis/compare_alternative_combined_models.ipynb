{
 "cells": [
  {
   "cell_type": "code",
   "execution_count": 37,
   "outputs": [],
   "source": [
    "import sys\n",
    "sys.path.append('..')\n",
    "import numpy as np\n",
    "import matplotlib.pyplot as plt\n",
    "import seaborn as sns\n",
    "import modules\n",
    "import pandas as pd\n",
    "from models import *\n",
    "from modules.data_io import (\n",
    "    ALL_DATA,\n",
    "    load_data_marginals,\n",
    "    load_data_means,\n",
    "    load_data_covariances,\n",
    "    load_single_species_data,\n",
    "    NUM_TIMES,\n",
    "    NUM_REPLICAS,\n",
    "    NUM_MEASUREMENTS,\n",
    "    CONDITIONS,\n",
    ")\n",
    "plt.rc(\"axes\", grid=\"on\")"
   ],
   "metadata": {
    "collapsed": false,
    "pycharm": {
     "name": "#%%\n"
    }
   }
  },
  {
   "cell_type": "code",
   "execution_count": 38,
   "outputs": [],
   "source": [
    "T_MEASUREMENTS = 3600*np.array([0, 0.5, 1, 2, 4])\n",
    "SPECIES = ['il1b', 'tnfa']\n",
    "DATA_MEANS = load_data_means()\n",
    "DATA_COVARIANCES = load_data_covariances()\n",
    "DATA_MARGINALS = load_data_marginals()"
   ],
   "metadata": {
    "collapsed": false,
    "pycharm": {
     "name": "#%%\n"
    }
   }
  },
  {
   "cell_type": "code",
   "execution_count": 39,
   "metadata": {},
   "outputs": [],
   "source": [
    "MODELS = ['3SAA', '3SAB', '3SAC',\n",
    "          '3SBA', '3SBB', '3SBC',\n",
    "          '3SCA', '3SCB', '3SCC']"
   ]
  },
  {
   "cell_type": "code",
   "execution_count": 40,
   "outputs": [],
   "source": [
    "model_classes = {model: CombinedModel(model[-2], model[-1]) for model in MODELS}\n",
    "parameter_files = {model: f'opt_results/joint_fit/{model}_best_joint_fit.npz' for model in MODELS}\n",
    "predictions_files = {model:f'predictions/joint_fit/{model}_predictions.npz' for model in MODELS}"
   ],
   "metadata": {
    "collapsed": false,
    "pycharm": {
     "name": "#%%\n"
    }
   }
  },
  {
   "cell_type": "markdown",
   "source": [
    "# BIC and predictive log-likelihood for combined treatment data"
   ],
   "metadata": {
    "collapsed": false,
    "pycharm": {
     "name": "#%% md\n"
    }
   }
  },
  {
   "cell_type": "code",
   "execution_count": 41,
   "metadata": {},
   "outputs": [],
   "source": [
    "bic = lambda loglike, num_par, data_size : num_par*np.log(data_size) - 2*loglike\n",
    "\n",
    "# Find number of independent observations used for fitting models\n",
    "num_data_points = 0\n",
    "for cond in ['NoInhibitors', 'MG', 'U0126']:\n",
    "    for rep in ['_0', '_1', '_2', '_3']:\n",
    "        for time in ['0hr', '30mins', '1hr', '2hr', '4hr']:\n",
    "            num_data_points += ALL_DATA[cond][rep][time].shape[1]\n",
    "\n",
    "# Generate the table of different model selection criteria\n",
    "d = []\n",
    "\n",
    "for model in MODELS:\n",
    "    npar = len(model_classes[model].PARAMETERS)\n",
    "\n",
    "    # Find the fit loglikelihood\n",
    "    with np.load(parameter_files[model]) as _:\n",
    "        ll_fit = -1.0*_[\"fs\"]\n",
    "\n",
    "    # Find the fit BIC\n",
    "    bic_fit = bic(ll_fit, npar, num_data_points)\n",
    "\n",
    "    # Find the prediction loglikelihood\n",
    "    ll_predict = 0\n",
    "    for s, species in enumerate(SPECIES):\n",
    "        with np.load(predictions_files[model], allow_pickle=True) as _:\n",
    "            marginal_fits = [_[\"predictions\"][()][species][\"MG_U0126\"][f\"p{i}\"] for i in range(5)]\n",
    "        data = load_single_species_data(\"MG_U0126\", species)\n",
    "        for j in range(len(T_MEASUREMENTS)):\n",
    "            xdata = data[j]\n",
    "            p = marginal_fits[j]\n",
    "            p[p<1e-16] = 1e-16\n",
    "            xdata[xdata>=len(p)] = len(p)-1\n",
    "            ll_predict += np.sum(np.log(p[xdata]))\n",
    "        ll_sum = ll_fit + ll_predict\n",
    "\n",
    "    d.append([model, ll_fit, bic_fit, ll_predict, ll_sum])"
   ]
  },
  {
   "cell_type": "code",
   "execution_count": 42,
   "metadata": {},
   "outputs": [
    {
     "name": "stderr",
     "output_type": "stream",
     "text": [
      "<ipython-input-42-0ea522ef032f>:12: FutureWarning: Using a non-tuple sequence for multidimensional indexing is deprecated; use `arr[tuple(seq)]` instead of `arr[seq]`. In the future this will be interpreted as an array index, `arr[np.array(seq)]`, which will result either in an error or a different result.\n",
      "  ll_fit += np.sum(np.log(p[xdat.tolist()]))\n",
      "<ipython-input-42-0ea522ef032f>:23: FutureWarning: Using a non-tuple sequence for multidimensional indexing is deprecated; use `arr[tuple(seq)]` instead of `arr[seq]`. In the future this will be interpreted as an array index, `arr[np.array(seq)]`, which will result either in an error or a different result.\n",
      "  ll_predict += np.sum(np.log(p[xdat.tolist()]))\n"
     ]
    }
   ],
   "source": [
    "with np.load(\"../coupled_model_analysis/predictions/greybox_dists_fsp_marginals_sa.npz\", allow_pickle=True) as _:\n",
    "    coupled_joint_dists = _[\"dists\"][()]\n",
    "ll_fit = 0.0\n",
    "time_points = [\"0hr\", \"30mins\", \"1hr\", \"2hr\", \"4hr\"]\n",
    "for condition in [\"NoInhibitors\", \"MG\", \"U0126\"]:\n",
    "    for j in range(len(time_points)):\n",
    "        p = coupled_joint_dists[condition][j]\n",
    "        p[p<1.0E-16] = 1.0E-16\n",
    "        xdat = ALL_DATA[condition][\"\"][time_points[j]]\n",
    "        xdat[0, xdat[0,:] >= p.shape[0]] = p.shape[0]-1\n",
    "        xdat[1, xdat[1,:] >= p.shape[1]] = p.shape[1]-1        \n",
    "        ll_fit += np.sum(np.log(p[xdat.tolist()]))\n",
    "npar = 15\n",
    "bic_fit = bic(ll_fit, npar, num_data_points)\n",
    "# Find the prediction loglikelihood\n",
    "ll_predict = 0\n",
    "for j in range(len(T_MEASUREMENTS)):\n",
    "    p = coupled_joint_dists[\"MG_U0126\"][j]\n",
    "    p[p<1.0E-16] = 1.0E-16\n",
    "    xdat = ALL_DATA[\"MG_U0126\"][\"\"][time_points[j]]\n",
    "    xdat[0, xdat[0,:] >= p.shape[0]] = p.shape[0]-1\n",
    "    xdat[1, xdat[1,:] >= p.shape[1]] = p.shape[1]-1        \n",
    "    ll_predict += np.sum(np.log(p[xdat.tolist()]))\n",
    "ll_sum = ll_fit + ll_predict\n",
    "d.append([\"Coupled model\", ll_fit, bic_fit, ll_predict, ll_sum])"
   ]
  },
  {
   "cell_type": "code",
   "execution_count": 43,
   "metadata": {},
   "outputs": [
    {
     "name": "stdout",
     "output_type": "stream",
     "text": [
      "           Model  Fit Log-likelihood        Fit BIC  \\\n",
      "0           3SAA      -354648.897846  709547.954004   \n",
      "1           3SAB      -355948.234857  712146.628025   \n",
      "2           3SAC      -356952.177672  714154.513656   \n",
      "3           3SBA      -354255.616521  708761.391354   \n",
      "4           3SBB      -355727.553033  711705.264377   \n",
      "5           3SBC      -355605.220045  711460.598401   \n",
      "6           3SCA      -354338.454090  708927.066491   \n",
      "7           3SCB      -355754.574837  711759.307986   \n",
      "8           3SCC      -356341.175683  712932.509677   \n",
      "9  Coupled model      -381911.951160  763980.251265   \n",
      "\n",
      "   Prediction Log-likelihood  Sum of Fit and Prediction Log-likelihoods  \n",
      "0              -85201.875111                             -439850.772957  \n",
      "1              -85923.221396                             -441871.456253  \n",
      "2              -86782.726903                             -443734.904575  \n",
      "3              -85238.983475                             -439494.599996  \n",
      "4              -85956.846724                             -441684.399757  \n",
      "5              -86235.606246                             -441840.826290  \n",
      "6              -85069.199253                             -439407.653343  \n",
      "7              -85949.040295                             -441703.615131  \n",
      "8              -86528.214622                             -442869.390305  \n",
      "9              -90791.708696                             -472703.659856  \n"
     ]
    }
   ],
   "source": [
    "model_comparison_table = pd.DataFrame(d, columns=['Model', 'Fit Log-likelihood', 'Fit BIC', 'Prediction Log-likelihood', 'Sum of Fit and Prediction Log-likelihoods'])\n",
    "print(model_comparison_table)\n",
    "model_comparison_table.to_csv(r'tables/multi_gene_models.csv',\n",
    "                              index = False, header=True,\n",
    "                              float_format='%.2f')\n",
    "model_comparison_table = model_comparison_table.drop(index=9)"
   ]
  },
  {
   "cell_type": "markdown",
   "source": [
    "# Ranking models in terms of sum of fit and predictive log-likelihood"
   ],
   "metadata": {
    "collapsed": false,
    "pycharm": {
     "name": "#%% md\n"
    }
   }
  },
  {
   "cell_type": "code",
   "execution_count": 44,
   "outputs": [
    {
     "data": {
      "text/plain": "<Figure size 432x288 with 1 Axes>",
      "image/png": "[encoded data removed]"
     },
     "metadata": {
      "needs_background": "light"
     },
     "output_type": "display_data"
    }
   ],
   "source": [
    "fig, ax = plt.subplots(1,1)\n",
    "model_comparison_table = model_comparison_table.sort_values(by=\"Sum of Fit and Prediction Log-likelihoods\")\n",
    "sns.barplot(x=model_comparison_table[\"Model\"],\n",
    "            y=model_comparison_table[\"Sum of Fit and Prediction Log-likelihoods\"],\n",
    "            ax=ax\n",
    "              )\n",
    "ax.set_ylim([np.min(model_comparison_table[\"Sum of Fit and Prediction Log-likelihoods\"]),\n",
    "           0.999*np.max(model_comparison_table[\"Sum of Fit and Prediction Log-likelihoods\"])])\n",
    "fig.savefig(\"figs/simultaneous_models_ranking.png\", dpi=500, bbox_inches=\"tight\")"
   ],
   "metadata": {
    "collapsed": false,
    "pycharm": {
     "name": "#%%\n"
    }
   }
  },
  {
   "cell_type": "code",
   "execution_count": 45,
   "outputs": [
    {
     "data": {
      "text/plain": "<Figure size 432x288 with 1 Axes>",
      "image/png": "[encoded data removed]"
     },
     "metadata": {
      "needs_background": "light"
     },
     "output_type": "display_data"
    }
   ],
   "source": [
    "fig, ax = plt.subplots(1,1)\n",
    "fig.set_tight_layout(True)\n",
    "ax.scatter(\n",
    "    model_comparison_table[\"Fit Log-likelihood\"],\n",
    "    model_comparison_table[\"Prediction Log-likelihood\"]\n",
    ")\n",
    "for i in range(model_comparison_table.shape[0]-3, model_comparison_table.shape[0]):\n",
    "    xcoo = model_comparison_table.iloc[i][\"Fit Log-likelihood\"]\n",
    "    ycoo = model_comparison_table.iloc[i][\"Prediction Log-likelihood\"]\n",
    "    ax.annotate(model_comparison_table.iloc[i][\"Model\"], (xcoo - 300, ycoo), fontweight=\"bold\")\n",
    "ax.autoscale(True, axis=\"both\", tight=False)\n",
    "ax.set_xlabel(\"Fit Log-likelihood\")\n",
    "ax.set_ylabel(\"Prediction Log-likelihood\")\n",
    "fig.savefig(\"figs/simultaneous_models_performance.png\", dpi=500)"
   ],
   "metadata": {
    "collapsed": false,
    "pycharm": {
     "name": "#%%\n"
    }
   }
  },
  {
   "cell_type": "markdown",
   "source": [
    "# Breaking down of log-likelihoods by species and condition"
   ],
   "metadata": {
    "collapsed": false,
    "pycharm": {
     "name": "#%% md\n"
    }
   }
  },
  {
   "cell_type": "code",
   "execution_count": 46,
   "outputs": [
    {
     "name": "stdout",
     "output_type": "stream",
     "text": [
      "  Model  il1b_NoInhibitors       il1b_MG    il1b_U0126  il1b_MG_U0126  \\\n",
      "0  3SAA      -71832.327924 -65775.332609 -56931.566418  -46552.452607   \n",
      "1  3SAB      -71813.496139 -65783.983288 -56886.425772  -46489.082077   \n",
      "2  3SAC      -72656.337739 -65940.500871 -57725.417907  -46887.077289   \n",
      "3  3SBA      -71563.308601 -65787.577881 -56944.939611  -46578.887290   \n",
      "4  3SBB      -71548.474724 -65767.493029 -56951.275057  -46528.452893   \n",
      "5  3SBC      -71593.548128 -65785.837592 -57125.466701  -46549.016945   \n",
      "6  3SCA      -71550.263440 -65780.084289 -56978.479960  -46414.571041   \n",
      "7  3SCB      -71520.185143 -65801.347272 -56901.903603  -46422.337567   \n",
      "8  3SCC      -72224.997432 -65842.026457 -57643.909806  -46640.625364   \n",
      "\n",
      "   tnfa_NoInhibitors       tnfa_MG    tnfa_U0126  tnfa_MG_U0126  \n",
      "0      -61159.581529 -49171.442455 -49790.600486  -38649.422504  \n",
      "1      -61421.349158 -50089.716521 -49955.771466  -39434.139319  \n",
      "2      -61229.841145 -49435.249108 -49963.932220  -39895.649614  \n",
      "3      -61057.053418 -49130.149448 -49782.624440  -38660.096185  \n",
      "4      -61425.212273 -50041.548140 -49997.121837  -39428.393831  \n",
      "5      -61494.163107 -49317.835907 -50296.944942  -39686.589301  \n",
      "6      -61103.612229 -49159.482244 -49771.934506  -38654.628212  \n",
      "7      -61370.999413 -50211.824982 -49949.931040  -39526.702728  \n",
      "8      -61232.331616 -49433.207809 -49963.445317  -39887.589258  \n"
     ]
    }
   ],
   "source": [
    "# Generate the table of different model selection criteria\n",
    "d = []\n",
    "columns = [\"Model\"]\n",
    "for model in MODELS:\n",
    "    lbreakdown = []\n",
    "    for s, species in enumerate(SPECIES):\n",
    "        for c, cond in enumerate(CONDITIONS):\n",
    "            with np.load(predictions_files[model], allow_pickle=True) as _:\n",
    "                marginal_fits = [_[\"predictions\"][()][species][cond][f\"p{i}\"] for i in range(5)]\n",
    "            data = load_single_species_data(cond, species)\n",
    "            ll = 0.0\n",
    "            for j in range(len(T_MEASUREMENTS)):\n",
    "                xdata = data[j]\n",
    "                p = marginal_fits[j]\n",
    "                p[p<1e-16] = 1e-16\n",
    "                xdata[xdata>=len(p)] = len(p)-1\n",
    "                ll += np.sum(np.log(p[xdata]))\n",
    "            lbreakdown.append(ll)\n",
    "    d.append([model] + lbreakdown)\n",
    "for s, species in enumerate(SPECIES):\n",
    "    for c, cond in enumerate(CONDITIONS):\n",
    "        columns.append(f\"{species}_{cond}\")\n",
    "ll_breakdown_table = pd.DataFrame(d, columns=columns)\n",
    "print(ll_breakdown_table)\n",
    "ll_breakdown_table.to_csv(r'tables/multi_gene_models_breakdown.csv',\n",
    "                              index = False, header=True,\n",
    "                              float_format='%.2f')"
   ],
   "metadata": {
    "collapsed": false,
    "pycharm": {
     "name": "#%%\n"
    }
   }
  },
  {
   "cell_type": "markdown",
   "source": [
    "# Combined model vs Completely independent models"
   ],
   "metadata": {
    "collapsed": false,
    "pycharm": {
     "name": "#%% md\n"
    }
   }
  },
  {
   "cell_type": "code",
   "execution_count": 47,
   "outputs": [
    {
     "name": "stdout",
     "output_type": "stream",
     "text": [
      "  Model      il1b_fit       il1b_BIC      tnfa_fit       tnfa_BIC\n",
      "0   2SA -71606.168137  143287.220139 -61234.157031  122543.197926\n",
      "1   2SB -72145.632442  144366.148749 -63172.489839  126419.863542\n",
      "2   3SA -71374.578025  142852.121364 -60818.202475  121739.370263\n",
      "3   3SB -71441.888354  142986.742022 -61086.196878  122275.359070\n",
      "4   3SC -71453.014029  143008.993371 -60808.895666  121720.756646\n",
      "5   3SD -72314.905830  144732.776974 -63271.872460  126646.710233\n",
      "6  C3SA -71258.469077  142638.624434 -60697.499913  121516.686106\n",
      "7  C3SB -71444.442505  143010.571288 -63687.508778  127496.703835\n",
      "  Model      il1b_fit       il1b_BIC      tnfa_fit       tnfa_BIC\n",
      "0   2SA -71606.168137  143287.220139 -61234.157031  122543.197926\n",
      "1   2SB -72145.632442  144366.148749 -63172.489839  126419.863542\n",
      "2   3SA -71374.578025  142852.121364 -60818.202475  121739.370263\n"
     ]
    }
   ],
   "source": [
    "ll_single_gene = pd.read_csv(\"tables/single_gene_models.csv\")\n",
    "print(ll_single_gene)\n",
    "print(ll_single_gene.iloc[[0,1,2]])"
   ],
   "metadata": {
    "collapsed": false,
    "pycharm": {
     "name": "#%%\n"
    }
   }
  },
  {
   "cell_type": "code",
   "execution_count": 48,
   "outputs": [
    {
     "data": {
      "text/plain": "<Figure size 720x720 with 1 Axes>",
      "image/png": "[encoded data removed]"
     },
     "metadata": {
      "needs_background": "light"
     },
     "output_type": "display_data"
    }
   ],
   "source": [
    "fig, ax = plt.subplots(1,1)\n",
    "fig.set_size_inches(10,10)\n",
    "ax.scatter(ll_single_gene[\"il1b_fit\"],\n",
    "           ll_single_gene[\"tnfa_fit\"],\n",
    "           color=\"red\")\n",
    "for i in range(ll_single_gene.shape[0]):\n",
    "    xcoo = ll_single_gene.iloc[i][\"il1b_fit\"]\n",
    "    ycoo = ll_single_gene.iloc[i][\"tnfa_fit\"]\n",
    "    ax.annotate(ll_single_gene.iloc[i][\"Model\"],\n",
    "                (xcoo+10, ycoo), fontweight=\"bold\", color=\"red\")\n",
    "\n",
    "ax.scatter(ll_breakdown_table[\"il1b_NoInhibitors\"],\n",
    "           ll_breakdown_table[\"tnfa_NoInhibitors\"],\n",
    "           color=\"blue\")\n",
    "for i in range(ll_breakdown_table.shape[0]):\n",
    "    xcoo = ll_breakdown_table.iloc[i][\"il1b_NoInhibitors\"]\n",
    "    ycoo = ll_breakdown_table.iloc[i][\"tnfa_NoInhibitors\"]\n",
    "    ax.annotate(ll_breakdown_table.iloc[i][\"Model\"],\n",
    "                (xcoo+10, ycoo), fontweight=\"bold\", color=\"blue\")\n",
    "ax.set_xlabel(r\"IL-1$\\beta$ Log-likelihood\")\n",
    "ax.set_ylabel(r\"TNF-$\\alpha$ Log-likelihood\")\n",
    "fig.savefig(\"figs/single_vs_multi_gene_models.png\", dpi=500, bbox_inches=\"tight\")"
   ],
   "metadata": {
    "collapsed": false,
    "pycharm": {
     "name": "#%%\n"
    }
   }
  },
  {
   "cell_type": "markdown",
   "source": [
    "# Relative weights of multi-gene models\n",
    "This assume that the data is large enough that the Bayesian posterior\n",
    "distributions are well-approximated by the delta distribution centered\n",
    "at the peak."
   ],
   "metadata": {
    "collapsed": false,
    "pycharm": {
     "name": "#%% md\n"
    }
   }
  },
  {
   "cell_type": "code",
   "execution_count": 49,
   "outputs": [
    {
     "name": "stdout",
     "output_type": "stream",
     "text": [
      "[-2696.56115093 -2085.5591614  -1692.61833546 -1349.60352349\n",
      " -1498.95831575 -1471.93651149  -393.28132475     0.\n",
      "   -82.83756843]\n",
      "2    3SAC\n",
      "8    3SCC\n",
      "1    3SAB\n",
      "5    3SBC\n",
      "7    3SCB\n",
      "4    3SBB\n",
      "0    3SAA\n",
      "3    3SBA\n",
      "6    3SCA\n",
      "Name: Model, dtype: object\n"
     ]
    }
   ],
   "source": [
    "bics = -1.0*np.array(model_comparison_table[\"Fit BIC\"])/2.0\n",
    "bics -= np.max(bics)\n",
    "print(bics)\n",
    "print(model_comparison_table[\"Model\"])"
   ],
   "metadata": {
    "collapsed": false,
    "pycharm": {
     "name": "#%%\n"
    }
   }
  }
 ],
 "metadata": {
  "kernelspec": {
   "name": "python3",
   "language": "python",
   "display_name": "Python 3"
  },
  "language_info": {
   "codemirror_mode": {
    "name": "ipython",
    "version": 3
   },
   "file_extension": ".py",
   "mimetype": "text/x-python",
   "name": "python",
   "nbconvert_exporter": "python",
   "pygments_lexer": "ipython3",
   "version": "3.8.2-final"
  }
 },
 "nbformat": 4,
 "nbformat_minor": 1
}